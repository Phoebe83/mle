{
 "cells": [
  {
   "cell_type": "markdown",
   "metadata": {},
   "source": [
    "# Maximum likelihood Estimation (MLE)\n",
    "## Simpuate coin flipping\n",
    "- [Bernoulli distribution](https://en.wikipedia.org/wiki/Bernoulli_distribution) \n",
    "is the probability distribution of a random variable which takes the value 1 with probability $p$ and the value 0 with probability $q = 1 - p$\n",
    "- [scipy.stats.bernoulli](https://docs.scipy.org/doc/scipy/reference/generated/scipy.stats.bernoulli.html)"
   ]
  },
  {
   "cell_type": "code",
   "execution_count": 1,
   "metadata": {
    "collapsed": false
   },
   "outputs": [],
   "source": [
    "from scipy.stats import bernoulli \n",
    "\n",
    "p_true = 1/2 # this is the value we will try to estimate from the observed data\n",
    "fp = bernoulli(p_true)\n",
    "\n",
    "def sample(n=10):\n",
    "    \"\"\"\n",
    "    simulate coin flipping\n",
    "    \"\"\"\n",
    "    return fp.rvs(n) # flip it n times\n",
    "\n",
    "xs = sample(100) # generate some samples"
   ]
  },
  {
   "cell_type": "code",
   "execution_count": null,
   "metadata": {
    "collapsed": true
   },
   "outputs": [],
   "source": []
  }
 ],
 "metadata": {
  "kernelspec": {
   "display_name": "Python 3",
   "language": "python",
   "name": "python3"
  },
  "language_info": {
   "codemirror_mode": {
    "name": "ipython",
    "version": 3
   },
   "file_extension": ".py",
   "mimetype": "text/x-python",
   "name": "python",
   "nbconvert_exporter": "python",
   "pygments_lexer": "ipython3",
   "version": "3.6.0"
  }
 },
 "nbformat": 4,
 "nbformat_minor": 2
}

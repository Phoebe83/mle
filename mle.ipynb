{
 "cells": [
  {
   "cell_type": "markdown",
   "metadata": {},
   "source": [
    "# Maximum likelihood Estimation (MLE)\n",
    "## Simulate coin flipping\n",
    "- [Bernoulli distribution](https://en.wikipedia.org/wiki/Bernoulli_distribution) \n",
    "is the probability distribution of a random variable which takes the value 1 with probability $p$ and the value 0 with probability $q = 1 - p$\n",
    "- [scipy.stats.bernoulli](https://docs.scipy.org/doc/scipy/reference/generated/scipy.stats.bernoulli.html)"
   ]
  },
  {
   "cell_type": "code",
   "execution_count": 1,
   "metadata": {
    "collapsed": false
   },
   "outputs": [],
   "source": [
    "from scipy.stats import bernoulli \n",
    "\n",
    "p_true = 1/2 # this is the value we will try to estimate from the observed data\n",
    "fp = bernoulli(p_true)\n",
    "\n",
    "def sample(n=10):\n",
    "    \"\"\"\n",
    "    simulate coin flipping\n",
    "    \"\"\"\n",
    "    return fp.rvs(n) # flip it n times\n",
    "\n",
    "xs = sample(100) # generate some samples"
   ]
  },
  {
   "cell_type": "markdown",
   "metadata": {
    "collapsed": true
   },
   "source": [
    "## Find maximum of Bernoulli distribution\n",
    "Single experiment\n",
    "$$\\phi(x) = p ^ {x} * (1 - p) ^ { 1 - x }$$\n",
    "Series of experiments\n",
    "$$\\mathcal{L}(p|x) = \\prod_{i=1}^{n} p^{x_{i}}*(p-1)^{1-x_{i}}$$\n",
    "### Hints\n",
    "- [sympy.diff()](http://docs.sympy.org/dev/modules/core.html#sympy.core.function.diff)\n",
    "- [sympy.expand()](http://docs.sympy.org/dev/modules/core.html#sympy.core.function.expand)\n",
    "- [sympy.expand_log()](http://docs.sympy.org/dev/modules/core.html#sympy.core.function.expand_log)\n",
    "- [sympy.solve()](http://docs.sympy.org/dev/modules/core.html#sympy.core.function.solve)\n",
    "- [sympy.symbols()](http://docs.sympy.org/dev/modules/core.html#symbols)\n",
    "- [sympy gotchas](http://docs.sympy.org/dev/tutorial/gotchas.html)"
   ]
  },
  {
   "cell_type": "code",
   "execution_count": 2,
   "metadata": {
    "collapsed": false
   },
   "outputs": [],
   "source": [
    "import numpy as np\n",
    "import sympy\n",
    "from sympy.abc import x\n",
    "\n",
    "p = sympy.symbols('p', positive=True)\n",
    "phi = p ** x * (1 - p) ** (1 - x)\n",
    "L = np.prod([phi.subs(x, i) for i in xs]) # objective function to maximize\n",
    "log_L = sympy.expand_log(sympy.log(L))\n",
    "sol = sympy.solve(sympy.diff(log_L, p), p)[0]"
   ]
  },
  {
   "cell_type": "code",
   "execution_count": 3,
   "metadata": {
    "collapsed": false
   },
   "outputs": [
    {
     "data": {
      "image/png": "[encoded data removed]",
      "text/plain": [
       "<matplotlib.figure.Figure at 0x7f51c99f6278>"
      ]
     },
     "metadata": {},
     "output_type": "display_data"
    }
   ],
   "source": [
    "import matplotlib.pyplot as plt\n",
    "\n",
    "x_space = np.linspace(1/100, 1, 100, endpoint=False)\n",
    "\n",
    "plt.plot(x_space,\n",
    "         list(map(sympy.lambdify(p, log_L, 'numpy'), x_space)),\n",
    "         sol,\n",
    "         log_L.subs(p, sol),\n",
    "         'o',\n",
    "         p_true,\n",
    "         log_L.subs(p, p_true),\n",
    "         's',\n",
    "        )\n",
    "plt.xlabel('$p$', fontsize=18)\n",
    "plt.ylabel('Likelihood', fontsize=18)\n",
    "plt.title('Estimate not equal to true value', fontsize=18)\n",
    "plt.grid(True)\n",
    "plt.show()"
   ]
  },
  {
   "cell_type": "markdown",
   "metadata": {},
   "source": [
    "## Empirically examine the behavior of the maximum likelihood estimator \n",
    "- [evalf()](http://docs.sympy.org/dev/modules/core.html#module-sympy.core.evalf)"
   ]
  },
  {
   "cell_type": "code",
   "execution_count": 12,
   "metadata": {
    "collapsed": false
   },
   "outputs": [
    {
     "ename": "IndexError",
     "evalue": "tuple index out of range",
     "output_type": "error",
     "traceback": [
      "\u001b[0;31m---------------------------------------------------------------------------\u001b[0m",
      "\u001b[0;31mIndexError\u001b[0m                                Traceback (most recent call last)",
      "\u001b[0;32m<ipython-input-12-7005b249cf8a>\u001b[0m in \u001b[0;36m<module>\u001b[0;34m()\u001b[0m\n\u001b[1;32m     14\u001b[0m \u001b[0metries\u001b[0m \u001b[0;34m=\u001b[0m \u001b[0mlist\u001b[0m\u001b[0;34m(\u001b[0m\u001b[0mestimator_gen\u001b[0m\u001b[0;34m(\u001b[0m\u001b[0;36m100\u001b[0m\u001b[0;34m)\u001b[0m\u001b[0;34m)\u001b[0m \u001b[0;31m# this may take awhile, depending on how much data you want to generate\u001b[0m\u001b[0;34m\u001b[0m\u001b[0m\n\u001b[1;32m     15\u001b[0m \u001b[0mplt\u001b[0m\u001b[0;34m.\u001b[0m\u001b[0mhist\u001b[0m\u001b[0;34m(\u001b[0m\u001b[0metries\u001b[0m\u001b[0;34m)\u001b[0m \u001b[0;31m# histogram of maximum likelihood estimator\u001b[0m\u001b[0;34m\u001b[0m\u001b[0m\n\u001b[0;32m---> 16\u001b[0;31m \u001b[0mplt\u001b[0m\u001b[0;34m.\u001b[0m\u001b[0mtitle\u001b[0m\u001b[0;34m(\u001b[0m\u001b[0;34m'$\\mu={3.3f},\\sigma={3.3f}$'\u001b[0m\u001b[0;34m.\u001b[0m\u001b[0mformat\u001b[0m\u001b[0;34m(\u001b[0m\u001b[0mnp\u001b[0m\u001b[0;34m.\u001b[0m\u001b[0mmean\u001b[0m\u001b[0;34m(\u001b[0m\u001b[0metries\u001b[0m\u001b[0;34m)\u001b[0m\u001b[0;34m,\u001b[0m \u001b[0mnp\u001b[0m\u001b[0;34m.\u001b[0m\u001b[0mstd\u001b[0m\u001b[0;34m(\u001b[0m\u001b[0metries\u001b[0m\u001b[0;34m)\u001b[0m\u001b[0;34m)\u001b[0m\u001b[0;34m,\u001b[0m \u001b[0mfontsize\u001b[0m\u001b[0;34m=\u001b[0m\u001b[0;36m18\u001b[0m\u001b[0;34m)\u001b[0m\u001b[0;34m\u001b[0m\u001b[0m\n\u001b[0m\u001b[1;32m     17\u001b[0m \u001b[0mplt\u001b[0m\u001b[0;34m.\u001b[0m\u001b[0mshow\u001b[0m\u001b[0;34m(\u001b[0m\u001b[0;34m)\u001b[0m\u001b[0;34m\u001b[0m\u001b[0m\n",
      "\u001b[0;31mIndexError\u001b[0m: tuple index out of range"
     ]
    }
   ],
   "source": [
    "def estimator_gen(niter=10, ns=100):\n",
    "    \"\"\"\n",
    "    generate data to estimate distribution of maximum likelihood estimator'\n",
    "    \"\"\"\n",
    "    x = sympy.symbols('x', real=True)\n",
    "    phi = p**x*(1-p)**(1-x)\n",
    "    for i in range(niter):\n",
    "        xs = sample(ns) # generate some samples from the experiment\n",
    "        L = np.prod([phi.subs(x,i) for i in xs]) # objective function to maximize\n",
    "        log_L = sympy.expand_log(sympy.log(L)) \n",
    "        sol = sympy.solve(sympy.diff(log_L, p), p)[0]\n",
    "        yield float(sol.evalf())\n",
    "    \n",
    "etries = list(estimator_gen(100)) # this may take awhile, depending on how much data you want to generate\n",
    "plt.hist(etries) # histogram of maximum likelihood estimator\n",
    "plt.title('$\\mu={3.3f},\\sigma={3.3f}$'.format(np.mean(etries), np.std(etries)), fontsize=18)\n",
    "plt.show()"
   ]
  },
  {
   "cell_type": "code",
   "execution_count": 14,
   "metadata": {
    "collapsed": false
   },
   "outputs": [
    {
     "data": {
      "text/plain": [
       "'$\\\\mu=0.496,\\\\sigma=0.047$'"
      ]
     },
     "execution_count": 14,
     "metadata": {},
     "output_type": "execute_result"
    }
   ],
   "source": [
    "'$\\mu={:3.3f},\\sigma={:3.3f}$'.format(np.mean(etries), np.std(etries))"
   ]
  },
  {
   "cell_type": "code",
   "execution_count": null,
   "metadata": {
    "collapsed": true
   },
   "outputs": [],
   "source": []
  }
 ],
 "metadata": {
  "kernelspec": {
   "display_name": "Python 3",
   "language": "python",
   "name": "python3"
  },
  "language_info": {
   "codemirror_mode": {
    "name": "ipython",
    "version": 3
   },
   "file_extension": ".py",
   "mimetype": "text/x-python",
   "name": "python",
   "nbconvert_exporter": "python",
   "pygments_lexer": "ipython3",
   "version": "3.6.0"
  }
 },
 "nbformat": 4,
 "nbformat_minor": 2
}

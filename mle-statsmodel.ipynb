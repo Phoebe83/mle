{
 "cells": [
  {
   "cell_type": "markdown",
   "metadata": {},
   "source": [
    "# Maximum Likelihood Estimation of Custom Models in Python with StatsModels\n",
    "based on http://austinrochford.com/posts/2015-03-03-mle-python-statsmodels.html\n",
    "\n",
    "## Distribution\n",
    "Uses custom [zero-inflated Poisson model](https://en.wikipedia.org/wiki/Zero-inflated_model).\n",
    "\n",
    "$$\n",
    "P(X = 0) = \\pi + (1 - \\pi) e^ {-\\lambda}\n",
    "$$\n",
    "$$\n",
    "P(X = x) = (1 - \\pi) e ^{-\\lambda} \\frac{\\lambda^{x}}{x!},\n",
    "$$\n",
    "for $x > 0$."
   ]
  },
  {
   "cell_type": "code",
   "execution_count": 1,
   "metadata": {
    "collapsed": true
   },
   "outputs": [],
   "source": [
    "import matplotlib\n",
    "from matplotlib import pyplot as plt\n",
    "import numpy as np\n",
    "from scipy import stats\n",
    "import seaborn as sns\n",
    "from statsmodels.base.model import GenericLikelihoodModel\n",
    "\n",
    "# list available fonts: [f.name for f in matplotlib.font_manager.fontManager.ttflist]\n",
    "# fix warning: /opt/conda/lib/python3.6/site-packages/matplotlib/font_manager.py:1297: UserWarning: findfont: Font family ['sans-serif'] not found. Falling back to DejaVu Sans\n",
    "matplotlib.rc('font', family='DejaVu Sans')\n",
    "\n",
    "pi_default = 0.3\n",
    "lambda_default = 2.0"
   ]
  },
  {
   "cell_type": "code",
   "execution_count": 2,
   "metadata": {
    "collapsed": true
   },
   "outputs": [],
   "source": [
    "def zip_pmf(x, pi=pi_default, lambda_=lambda_default):\n",
    "    if pi < 0 or pi > 1 or lambda_ <= 0:\n",
    "        return np.zeros_like(x)\n",
    "    else:\n",
    "        return (x == 0) * pi + (1 - pi) * stats.poisson.pmf(x, lambda_)"
   ]
  },
  {
   "cell_type": "code",
   "execution_count": 3,
   "metadata": {
    "collapsed": false
   },
   "outputs": [
    {
     "data": {
      "image/png": "[encoded data removed]",
      "text/plain": [
       "<matplotlib.figure.Figure at 0x7f48d4e91860>"
      ]
     },
     "metadata": {},
     "output_type": "display_data"
    }
   ],
   "source": [
    "fig, ax = plt.subplots(figsize=(8, 6))\n",
    "\n",
    "xs = np.arange(0, 10);\n",
    "\n",
    "palette = sns.color_palette()\n",
    "\n",
    "ax.bar(2.5 * xs, stats.poisson.pmf(xs, lambda_default), width=0.9, color=palette[0], label='Poisson');\n",
    "ax.bar(2.5 * xs + 1, zip_pmf(xs), width=0.9, color=palette[1], label='Zero-inflated Poisson');\n",
    "\n",
    "ax.set_xticks(2.5 * xs + 1);\n",
    "ax.set_xticklabels(xs);\n",
    "ax.set_xlabel('$x$');\n",
    "\n",
    "ax.set_ylabel('$P(X = x)$');\n",
    "\n",
    "ax.legend();\n",
    "plt.show()"
   ]
  },
  {
   "cell_type": "markdown",
   "metadata": {},
   "source": [
    "## Maximum likelihood estimation"
   ]
  },
  {
   "cell_type": "code",
   "execution_count": 4,
   "metadata": {
    "collapsed": false
   },
   "outputs": [],
   "source": [
    "N = 1000 # observations\n",
    "inflated_zero = stats.bernoulli.rvs(pi_default, size=N)\n",
    "x = (1 - inflated_zero) * stats.poisson.rvs(lambda_default, size=N)"
   ]
  },
  {
   "cell_type": "code",
   "execution_count": 5,
   "metadata": {
    "collapsed": false
   },
   "outputs": [
    {
     "data": {
      "image/png": "[encoded data removed]",
      "text/plain": [
       "<matplotlib.figure.Figure at 0x7f48d24c1048>"
      ]
     },
     "metadata": {},
     "output_type": "display_data"
    }
   ],
   "source": [
    "fig, ax = plt.subplots(figsize=(8, 6))\n",
    "\n",
    "ax.hist(x, width=0.8, bins=np.arange(x.max() + 1), normed=True, color=palette[1]);\n",
    "\n",
    "ax.set_xticks(np.arange(x.max() + 1) + 0.4);\n",
    "ax.set_xticklabels(np.arange(x.max() + 1));\n",
    "ax.set_xlabel('$x$');\n",
    "\n",
    "ax.set_ylabel('Proportion of samples');\n",
    "\n",
    "plt.show()"
   ]
  },
  {
   "cell_type": "code",
   "execution_count": null,
   "metadata": {
    "collapsed": true
   },
   "outputs": [],
   "source": []
  }
 ],
 "metadata": {
  "kernelspec": {
   "display_name": "Python 3",
   "language": "python",
   "name": "python3"
  },
  "language_info": {
   "codemirror_mode": {
    "name": "ipython",
    "version": 3
   },
   "file_extension": ".py",
   "mimetype": "text/x-python",
   "name": "python",
   "nbconvert_exporter": "python",
   "pygments_lexer": "ipython3",
   "version": "3.6.0"
  }
 },
 "nbformat": 4,
 "nbformat_minor": 2
}

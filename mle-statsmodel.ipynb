{
 "cells": [
  {
   "cell_type": "markdown",
   "metadata": {},
   "source": [
    "# Maximum Likelihood Estimation of Custom Models in Python with StatsModels\n",
    "based on http://austinrochford.com/posts/2015-03-03-mle-python-statsmodels.html\n",
    "\n",
    "## Distribution\n",
    "Uses custom [zero-inflated Poisson model](https://en.wikipedia.org/wiki/Zero-inflated_model).\n",
    "\n",
    "$$\n",
    "P(X = 0) = \\pi + (1 - \\pi) e^ {-\\lambda}\n",
    "$$\n",
    "$$\n",
    "P(X = x) = (1 - \\pi) e ^{-\\lambda} \\frac{\\lambda^{x}}{x!},\n",
    "$$\n",
    "for $x > 0$."
   ]
  },
  {
   "cell_type": "code",
   "execution_count": 1,
   "metadata": {
    "collapsed": true
   },
   "outputs": [],
   "source": [
    "import matplotlib\n",
    "from matplotlib import pyplot as plt\n",
    "import numpy as np\n",
    "from scipy import stats\n",
    "import seaborn as sns\n",
    "from statsmodels.base.model import GenericLikelihoodModel\n",
    "\n",
    "# list available fonts: [f.name for f in matplotlib.font_manager.fontManager.ttflist]\n",
    "# fix warning: /opt/conda/lib/python3.6/site-packages/matplotlib/font_manager.py:1297: UserWarning: findfont: Font family ['sans-serif'] not found. Falling back to DejaVu Sans\n",
    "matplotlib.rc('font', family='DejaVu Sans')\n",
    "\n",
    "pi_default = 0.3\n",
    "lambda_default = 2.0"
   ]
  },
  {
   "cell_type": "code",
   "execution_count": 2,
   "metadata": {
    "collapsed": true
   },
   "outputs": [],
   "source": [
    "def zip_pmf(x, pi=pi_default, lambda_=lambda_default):\n",
    "    if pi < 0 or pi > 1 or lambda_ <= 0:\n",
    "        return np.zeros_like(x)\n",
    "    else:\n",
    "        return (x == 0) * pi + (1 - pi) * stats.poisson.pmf(x, lambda_)"
   ]
  },
  {
   "cell_type": "code",
   "execution_count": 3,
   "metadata": {
    "collapsed": false
   },
   "outputs": [
    {
     "data": {
      "image/png": "[encoded data removed]",
      "text/plain": [
       "<matplotlib.figure.Figure at 0x7f6326dbd8d0>"
      ]
     },
     "metadata": {},
     "output_type": "display_data"
    }
   ],
   "source": [
    "fig, ax = plt.subplots(figsize=(8, 6))\n",
    "\n",
    "xs = np.arange(0, 10);\n",
    "\n",
    "palette = sns.color_palette()\n",
    "\n",
    "ax.bar(2.5 * xs, stats.poisson.pmf(xs, lambda_default), width=0.9, color=palette[0], label='Poisson');\n",
    "ax.bar(2.5 * xs + 1, zip_pmf(xs), width=0.9, color=palette[1], label='Zero-inflated Poisson');\n",
    "\n",
    "ax.set_xticks(2.5 * xs + 1);\n",
    "ax.set_xticklabels(xs);\n",
    "ax.set_xlabel('$x$');\n",
    "\n",
    "ax.set_ylabel('$P(X = x)$');\n",
    "\n",
    "ax.legend();\n",
    "plt.show()"
   ]
  },
  {
   "cell_type": "markdown",
   "metadata": {},
   "source": [
    "## Maximum likelihood estimation"
   ]
  },
  {
   "cell_type": "code",
   "execution_count": 4,
   "metadata": {
    "collapsed": false
   },
   "outputs": [],
   "source": [
    "N = 1000 # observations\n",
    "inflated_zero = stats.bernoulli.rvs(pi_default, size=N)\n",
    "x = (1 - inflated_zero) * stats.poisson.rvs(lambda_default, size=N)"
   ]
  },
  {
   "cell_type": "code",
   "execution_count": 5,
   "metadata": {
    "collapsed": false
   },
   "outputs": [
    {
     "data": {
      "image/png": "[encoded data removed]",
      "text/plain": [
       "<matplotlib.figure.Figure at 0x7f63243ed668>"
      ]
     },
     "metadata": {},
     "output_type": "display_data"
    }
   ],
   "source": [
    "fig, ax = plt.subplots(figsize=(8, 6))\n",
    "\n",
    "ax.hist(x, width=0.8, bins=np.arange(x.max() + 1), normed=True, color=palette[1]);\n",
    "\n",
    "ax.set_xticks(np.arange(x.max() + 1) + 0.4);\n",
    "ax.set_xticklabels(np.arange(x.max() + 1));\n",
    "ax.set_xlabel('$x$');\n",
    "\n",
    "ax.set_ylabel('Proportion of samples');\n",
    "\n",
    "plt.show()"
   ]
  },
  {
   "cell_type": "markdown",
   "metadata": {},
   "source": [
    "### Estimate parameters $\\pi$ and $\\lambda$"
   ]
  },
  {
   "cell_type": "code",
   "execution_count": 6,
   "metadata": {
    "collapsed": true
   },
   "outputs": [],
   "source": [
    "class ZeroInflatedPoisson(GenericLikelihoodModel):\n",
    "    def __init__(self, endog, exog=None, **kwds):\n",
    "        if exog is None:\n",
    "            exog = np.zeros_like(endog)\n",
    "            \n",
    "        super().__init__(endog, exog, **kwds)\n",
    "    \n",
    "    def nloglikeobs(self, params):\n",
    "        pi = params[0]\n",
    "        lambda_ = params[1]\n",
    "\n",
    "        return -np.log(zip_pmf(self.endog, pi=pi, lambda_=lambda_))\n",
    "    \n",
    "    def fit(self, start_params=None, maxiter=10000, maxfun=5000, **kwds):\n",
    "        if start_params is None:\n",
    "            lambda_start = self.endog.mean()\n",
    "            excess_zeros = (self.endog == 0).mean() - stats.poisson.pmf(0, lambda_start)\n",
    "            \n",
    "            start_params = np.array([excess_zeros, lambda_start])\n",
    "            \n",
    "        return super().fit(start_params=start_params, maxiter=maxiter, maxfun=maxfun, **kwds)"
   ]
  },
  {
   "cell_type": "code",
   "execution_count": 7,
   "metadata": {
    "collapsed": false
   },
   "outputs": [
    {
     "name": "stdout",
     "output_type": "stream",
     "text": [
      "Optimization terminated successfully.\n",
      "         Current function value: 1.610845\n",
      "         Iterations: 38\n",
      "         Function evaluations: 72\n"
     ]
    },
    {
     "data": {
      "text/plain": [
       "(0.26866817383930386, 1.9963148945575016)"
      ]
     },
     "execution_count": 7,
     "metadata": {},
     "output_type": "execute_result"
    }
   ],
   "source": [
    "model = ZeroInflatedPoisson(x)\n",
    "results = model.fit()\n",
    "\n",
    "pi_mle, lambda_mle = results.params\n",
    "\n",
    "pi_mle, lambda_mle"
   ]
  },
  {
   "cell_type": "markdown",
   "metadata": {},
   "source": [
    "### Bootstrap resampling to estimate the variation in our parameter estimates"
   ]
  },
  {
   "cell_type": "code",
   "execution_count": 8,
   "metadata": {
    "collapsed": false
   },
   "outputs": [
    {
     "name": "stdout",
     "output_type": "stream",
     "text": [
      "<class '__main__.ZeroInflatedPoisson'>\n"
     ]
    },
    {
     "name": "stderr",
     "output_type": "stream",
     "text": [
      "/opt/conda/lib/python3.6/site-packages/seaborn/categorical.py:2171: UserWarning: The boxplot API has been changed. Attempting to adjust your arguments for the new API (which might not work). Please update your code. See the version 0.6 release notes for more info.\n",
      "  warnings.warn(msg, UserWarning)\n"
     ]
    },
    {
     "data": {
      "image/png": "[encoded data removed]",
      "text/plain": [
       "<matplotlib.figure.Figure at 0x7f632427e0f0>"
      ]
     },
     "metadata": {},
     "output_type": "display_data"
    }
   ],
   "source": [
    "boot_mean, boot_std, boot_samples = results.bootstrap(nrep=500, store=True)\n",
    "boot_pis = boot_samples[:, 0]\n",
    "boot_lambdas = boot_samples[:, 1]\n",
    "\n",
    "fig, (pi_ax, lambda_ax) = plt.subplots(ncols=2, figsize=(16, 6))\n",
    "\n",
    "sns.boxplot(boot_pis, ax=pi_ax, names=['$\\pi$'], color=palette[0]);\n",
    "sns.boxplot(boot_lambdas, ax=lambda_ax, names=['$\\lambda$'], color=palette[1]);\n",
    "\n",
    "fig.suptitle('Boostrap distribution of maximum likelihood estimates');\n",
    "plt.show()"
   ]
  },
  {
   "cell_type": "code",
   "execution_count": null,
   "metadata": {
    "collapsed": true
   },
   "outputs": [],
   "source": []
  }
 ],
 "metadata": {
  "kernelspec": {
   "display_name": "Python 3",
   "language": "python",
   "name": "python3"
  },
  "language_info": {
   "codemirror_mode": {
    "name": "ipython",
    "version": 3
   },
   "file_extension": ".py",
   "mimetype": "text/x-python",
   "name": "python",
   "nbconvert_exporter": "python",
   "pygments_lexer": "ipython3",
   "version": "3.6.0"
  }
 },
 "nbformat": 4,
 "nbformat_minor": 2
}
